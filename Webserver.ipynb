{
  "nbformat": 4,
  "nbformat_minor": 0,
  "metadata": {
    "colab": {
      "name": "colorid.ipynb",
      "provenance": [],
      "authorship_tag": "ABX9TyPL2y++qad3d8KPs9LmDZZf",
      "include_colab_link": true
    },
    "kernelspec": {
      "name": "python3",
      "display_name": "Python 3"
    }
  },
  "cells": [
    {
      "cell_type": "markdown",
      "metadata": {
        "id": "view-in-github",
        "colab_type": "text"
      },
      "source": [
            ]
    },
    {
      "cell_type": "code",
      "metadata": {
        "id": "ZHfx_E8SSOCx"
      },
      "source": [
        "!pip install flask-ngrok"
      ],
      "execution_count": null,
      "outputs": []
    },
    {
      "cell_type": "code",
      "metadata": {
        "id": "k0TCZ7551YWl"
       },
      "source": [
            	"from flask_ngrok import run_with_ngrok \r\n",
	"from flask import Flask\r\n",
	"app = Flask(__name__) \r\n",
	"from flask import request, jsonify\r\n",
	"\r\n",
	"global received_data\r\n",
	"received_data=""\r\n",
	"\r\n",
	"run_with_ngrok(app)\r\n",   
	"@app.route('/')\r\n",
	"def hello_world():\r\n",
    	"data = request.json\r\n",
    	"return 'Hello, World! GRIET from III C'\r\n",
	"\r\n",
	"@app.route('/topi', methods=['POST','GET'])\r\n",
	"def topi():\r\n",
    	"data = request.data\r\n",
    	"global received_data\r\n",
    	"received_data = received_data + ", " + data.decode("UTF-8")\r\n",
    	"return data\r\n",
  	"\r\n",
	"@app.route('/Received_information_from_Rassberry_Pi')\r\n",
	"def frompi():\r\n",
    	"global received_data\r\n",
   	 "return received_data\r\n",
	"\r\n",
	"app.run()\r\n",
                "\r\n",
             ],
      "execution_count": null,
      "outputs": []
    }
    
